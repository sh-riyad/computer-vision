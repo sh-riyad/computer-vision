{
 "cells": [
  {
   "cell_type": "code",
   "execution_count": 1,
   "id": "3d80bc41-1b88-4d8a-9b01-f8d9a3b30fee",
   "metadata": {},
   "outputs": [],
   "source": [
    "import torch\n",
    "from collections import OrderedDict\n",
    "from collections import namedtuple\n",
    "from itertools import product"
   ]
  },
  {
   "cell_type": "code",
   "execution_count": 2,
   "id": "b60d57ce-fe23-4836-bfea-0b843841d93d",
   "metadata": {},
   "outputs": [],
   "source": [
    "class RunBuilder():\n",
    "    @staticmethod\n",
    "    def get_runs(params):\n",
    "        Run = namedtuple(\"Run\", params.keys())\n",
    "        runs = []\n",
    "        for v in product(*params.values()):\n",
    "            runs.append(Run(*v))\n",
    "\n",
    "        return runs"
   ]
  },
  {
   "cell_type": "code",
   "execution_count": 4,
   "id": "ff23a8fb-5700-48db-8dd8-5c0488f431f3",
   "metadata": {},
   "outputs": [],
   "source": [
    "params = OrderedDict(\n",
    "    lr = [.01, .001],\n",
    "    batch_size = [1000, 10000]\n",
    ")"
   ]
  },
  {
   "cell_type": "code",
   "execution_count": 5,
   "id": "7b162db4-8bde-4cdf-8d93-7049f1c8fe7c",
   "metadata": {},
   "outputs": [
    {
     "data": {
      "text/plain": [
       "[Run(lr=0.01, batch_size=1000),\n",
       " Run(lr=0.01, batch_size=10000),\n",
       " Run(lr=0.001, batch_size=1000),\n",
       " Run(lr=0.001, batch_size=10000)]"
      ]
     },
     "execution_count": 5,
     "metadata": {},
     "output_type": "execute_result"
    }
   ],
   "source": [
    "runs = RunBuilder.get_runs(params)\n",
    "runs"
   ]
  },
  {
   "cell_type": "code",
   "execution_count": 10,
   "id": "ff8beb9b-5398-4d30-b94e-0415b2658089",
   "metadata": {},
   "outputs": [
    {
     "data": {
      "text/plain": [
       "Run(lr=0.01, batch_size=1000)"
      ]
     },
     "execution_count": 10,
     "metadata": {},
     "output_type": "execute_result"
    }
   ],
   "source": [
    "runs[0]"
   ]
  },
  {
   "cell_type": "code",
   "execution_count": 11,
   "id": "940d5f63-1db8-4578-83b2-5c7a124c5364",
   "metadata": {},
   "outputs": [
    {
     "data": {
      "text/plain": [
       "__main__.Run"
      ]
     },
     "execution_count": 11,
     "metadata": {},
     "output_type": "execute_result"
    }
   ],
   "source": [
    "type(runs[0])"
   ]
  },
  {
   "cell_type": "code",
   "execution_count": 12,
   "id": "41cd0fbe-3ee0-4aef-9a85-76d706a6977d",
   "metadata": {},
   "outputs": [
    {
     "name": "stdout",
     "output_type": "stream",
     "text": [
      "0.01 1000\n"
     ]
    }
   ],
   "source": [
    "print(runs[0].lr, runs[0].batch_size)"
   ]
  },
  {
   "cell_type": "code",
   "execution_count": 13,
   "id": "46f78b6b-d044-4b95-88f3-3b8d802d06ad",
   "metadata": {},
   "outputs": [
    {
     "name": "stdout",
     "output_type": "stream",
     "text": [
      "Run(lr=0.01, batch_size=1000) 0.01 1000\n",
      "Run(lr=0.01, batch_size=10000) 0.01 10000\n",
      "Run(lr=0.001, batch_size=1000) 0.001 1000\n",
      "Run(lr=0.001, batch_size=10000) 0.001 10000\n"
     ]
    }
   ],
   "source": [
    "for run in runs:\n",
    "    print(run, run.lr, run.batch_size)"
   ]
  },
  {
   "cell_type": "code",
   "execution_count": 14,
   "id": "dd069ab6-66f4-4cf2-9506-395c200d5c07",
   "metadata": {},
   "outputs": [],
   "source": [
    "params = OrderedDict(\n",
    "    lr = [.01, .001],\n",
    "    batch_size = [100, 1000, 10000],\n",
    "    shaffle = [True, False]\n",
    ")"
   ]
  },
  {
   "cell_type": "code",
   "execution_count": 16,
   "id": "5fa68294-d9ed-4e8a-851a-58d09270db9a",
   "metadata": {},
   "outputs": [
    {
     "data": {
      "text/plain": [
       "odict_keys(['lr', 'batch_size', 'shaffle'])"
      ]
     },
     "execution_count": 16,
     "metadata": {},
     "output_type": "execute_result"
    }
   ],
   "source": [
    "params.keys()"
   ]
  },
  {
   "cell_type": "code",
   "execution_count": 18,
   "id": "689442a9-92a9-4c4e-acef-e36bb9ea628b",
   "metadata": {},
   "outputs": [
    {
     "data": {
      "text/plain": [
       "odict_values([[0.01, 0.001], [100, 1000, 10000], [True, False]])"
      ]
     },
     "execution_count": 18,
     "metadata": {},
     "output_type": "execute_result"
    }
   ],
   "source": [
    "params.values()"
   ]
  },
  {
   "cell_type": "code",
   "execution_count": 20,
   "id": "7d7d5853-695b-42c5-ad02-5f0f5d782d78",
   "metadata": {},
   "outputs": [],
   "source": [
    "Run = namedtuple(\"Run\", params.keys())"
   ]
  },
  {
   "cell_type": "code",
   "execution_count": 30,
   "id": "c6db2d28-cd7d-409c-98c4-56ed6564f281",
   "metadata": {},
   "outputs": [
    {
     "data": {
      "text/plain": [
       "[Run(lr=0.01, batch_size=100, shaffle=True),\n",
       " Run(lr=0.01, batch_size=100, shaffle=False),\n",
       " Run(lr=0.01, batch_size=1000, shaffle=True),\n",
       " Run(lr=0.01, batch_size=1000, shaffle=False),\n",
       " Run(lr=0.01, batch_size=10000, shaffle=True),\n",
       " Run(lr=0.01, batch_size=10000, shaffle=False),\n",
       " Run(lr=0.001, batch_size=100, shaffle=True),\n",
       " Run(lr=0.001, batch_size=100, shaffle=False),\n",
       " Run(lr=0.001, batch_size=1000, shaffle=True),\n",
       " Run(lr=0.001, batch_size=1000, shaffle=False),\n",
       " Run(lr=0.001, batch_size=10000, shaffle=True),\n",
       " Run(lr=0.001, batch_size=10000, shaffle=False)]"
      ]
     },
     "execution_count": 30,
     "metadata": {},
     "output_type": "execute_result"
    }
   ],
   "source": [
    "runs = []\n",
    "for v in product(*params.values()):\n",
    "    runs.append(Run(*v))\n",
    "\n",
    "runs"
   ]
  },
  {
   "cell_type": "markdown",
   "id": "5c9bc380-1333-45ce-b9e4-630ee9dfe0db",
   "metadata": {},
   "source": [
    "## Before"
   ]
  },
  {
   "cell_type": "code",
   "execution_count": 32,
   "id": "9c02964b-df50-488a-b7c5-67b71bc4bcc2",
   "metadata": {},
   "outputs": [
    {
     "name": "stdout",
     "output_type": "stream",
     "text": [
      "batch_size=100 lr=0.01 shaffle=True\n",
      "batch_size=100 lr=0.01 shaffle=False\n",
      "batch_size=1000 lr=0.01 shaffle=True\n",
      "batch_size=1000 lr=0.01 shaffle=False\n",
      "batch_size=10000 lr=0.01 shaffle=True\n",
      "batch_size=10000 lr=0.01 shaffle=False\n",
      "batch_size=100 lr=0.001 shaffle=True\n",
      "batch_size=100 lr=0.001 shaffle=False\n",
      "batch_size=1000 lr=0.001 shaffle=True\n",
      "batch_size=1000 lr=0.001 shaffle=False\n",
      "batch_size=10000 lr=0.001 shaffle=True\n",
      "batch_size=10000 lr=0.001 shaffle=False\n"
     ]
    }
   ],
   "source": [
    "for lr, batch_size, shuffle in product(*params.values()):\n",
    "    comment = f\"batch_size={batch_size} lr={lr} shaffle={shuffle}\"\n",
    "    print(comment)"
   ]
  },
  {
   "cell_type": "code",
   "execution_count": 34,
   "id": "173e8c19-f171-433a-a9ae-a3e58e2e0d9a",
   "metadata": {},
   "outputs": [
    {
     "name": "stdout",
     "output_type": "stream",
     "text": [
      "Run(lr=0.01, batch_size=100, shaffle=True)\n",
      "Run(lr=0.01, batch_size=100, shaffle=False)\n",
      "Run(lr=0.01, batch_size=1000, shaffle=True)\n",
      "Run(lr=0.01, batch_size=1000, shaffle=False)\n",
      "Run(lr=0.01, batch_size=10000, shaffle=True)\n",
      "Run(lr=0.01, batch_size=10000, shaffle=False)\n",
      "Run(lr=0.001, batch_size=100, shaffle=True)\n",
      "Run(lr=0.001, batch_size=100, shaffle=False)\n",
      "Run(lr=0.001, batch_size=1000, shaffle=True)\n",
      "Run(lr=0.001, batch_size=1000, shaffle=False)\n",
      "Run(lr=0.001, batch_size=10000, shaffle=True)\n",
      "Run(lr=0.001, batch_size=10000, shaffle=False)\n"
     ]
    }
   ],
   "source": [
    "for run in RunBuilder.get_runs(params):\n",
    "    comment = f\"{run}\"\n",
    "    print(comment)"
   ]
  },
  {
   "cell_type": "code",
   "execution_count": null,
   "id": "233b83c7-a721-419b-9a23-d589a57b62f8",
   "metadata": {},
   "outputs": [],
   "source": []
  }
 ],
 "metadata": {
  "kernelspec": {
   "display_name": "Python 3 (ipykernel)",
   "language": "python",
   "name": "python3"
  },
  "language_info": {
   "codemirror_mode": {
    "name": "ipython",
    "version": 3
   },
   "file_extension": ".py",
   "mimetype": "text/x-python",
   "name": "python",
   "nbconvert_exporter": "python",
   "pygments_lexer": "ipython3",
   "version": "3.12.4"
  }
 },
 "nbformat": 4,
 "nbformat_minor": 5
}
