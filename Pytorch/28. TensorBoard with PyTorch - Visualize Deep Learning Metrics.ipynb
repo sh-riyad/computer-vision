{
 "cells": [
  {
   "cell_type": "code",
   "execution_count": 1,
   "id": "fff607e2-440c-4a60-b441-fd67d110e4f3",
   "metadata": {},
   "outputs": [],
   "source": [
    "import torch\n",
    "import torch.nn as nn\n",
    "import torch.nn.functional as F\n",
    "import torch.optim as optim\n",
    "import torchvision\n",
    "import torchvision.transforms as transforms\n",
    "\n",
    "from torch.utils.tensorboard import SummaryWriter\n",
    "\n",
    "torch.set_printoptions(linewidth=120)"
   ]
  },
  {
   "cell_type": "code",
   "execution_count": 2,
   "id": "c851672e-2edd-4ab9-a0c9-7ef1710a2dbf",
   "metadata": {},
   "outputs": [
    {
     "name": "stdout",
     "output_type": "stream",
     "text": [
      "torch  2.4.1+cpu\n",
      "torchvision  0.19.1+cpu\n"
     ]
    }
   ],
   "source": [
    "print(\"torch \", torch.__version__)\n",
    "print(\"torchvision \", torchvision.__version__)\n"
   ]
  },
  {
   "cell_type": "code",
   "execution_count": 3,
   "id": "3e411d80-b2e9-48b1-9916-e24168b43cd3",
   "metadata": {},
   "outputs": [],
   "source": [
    "train_set = torchvision.datasets.FashionMNIST(\n",
    "    root= './data',\n",
    "    download= True,\n",
    "    train= True,\n",
    "    transform = transforms.Compose([\n",
    "        transforms.ToTensor()\n",
    "    ])\n",
    ")"
   ]
  },
  {
   "cell_type": "code",
   "execution_count": 4,
   "id": "f191dd0a-5c54-4709-b00f-4975f8ac5edf",
   "metadata": {},
   "outputs": [],
   "source": [
    "train_loader = torch.utils.data.DataLoader(train_set, batch_size=1000, shuffle=True)"
   ]
  },
  {
   "cell_type": "code",
   "execution_count": 5,
   "id": "1c5dd998-6ed1-471c-9f9a-535760a162a5",
   "metadata": {},
   "outputs": [],
   "source": [
    "def get_num_correct(preds, labels):\n",
    "    return preds.argmax(dim=1).eq(labels).sum().item()"
   ]
  },
  {
   "cell_type": "code",
   "execution_count": 6,
   "id": "7551dec3-2d64-4baa-bc90-946dee89f0b3",
   "metadata": {},
   "outputs": [],
   "source": [
    "class Network(nn.Module):\n",
    "    def __init__(self):\n",
    "        super().__init__()\n",
    "        self.conv1 = nn.Conv2d(in_channels=1, out_channels=6, kernel_size=5)\n",
    "        self.conv2 = nn.Conv2d(in_channels=6, out_channels=12, kernel_size=5)\n",
    "        self.fc1 = nn.Linear(in_features=12*4*4, out_features=120)\n",
    "        self.fc2 = nn.Linear(in_features=120, out_features=60)\n",
    "        self.out = nn.Linear(in_features=60, out_features=10)\n",
    "\n",
    "    def forward(self, t):\n",
    "        t = F.relu(self.conv1(t))\n",
    "        t = F.max_pool2d(t, kernel_size=2, stride=2)\n",
    "        t = F.relu(self.conv2(t))\n",
    "        t = F.max_pool2d(t, kernel_size=2, stride=2)\n",
    "\n",
    "        t = t.reshape(-1, 12*4*4)\n",
    "        t = F.relu(self.fc1(t))\n",
    "        t = F.relu(self.fc2(t))\n",
    "        t = self.out(t)\n",
    "        \n",
    "        return t"
   ]
  },
  {
   "cell_type": "code",
   "execution_count": 7,
   "id": "1fe650f2-4883-41d8-a228-b4c661f806f4",
   "metadata": {},
   "outputs": [],
   "source": [
    "network = Network()"
   ]
  },
  {
   "cell_type": "code",
   "execution_count": 8,
   "id": "3233f519-b800-4043-821e-b0f772b5c624",
   "metadata": {},
   "outputs": [
    {
     "data": {
      "text/plain": [
       "Network(\n",
       "  (conv1): Conv2d(1, 6, kernel_size=(5, 5), stride=(1, 1))\n",
       "  (conv2): Conv2d(6, 12, kernel_size=(5, 5), stride=(1, 1))\n",
       "  (fc1): Linear(in_features=192, out_features=120, bias=True)\n",
       "  (fc2): Linear(in_features=120, out_features=60, bias=True)\n",
       "  (out): Linear(in_features=60, out_features=10, bias=True)\n",
       ")"
      ]
     },
     "execution_count": 8,
     "metadata": {},
     "output_type": "execute_result"
    }
   ],
   "source": [
    "network"
   ]
  },
  {
   "cell_type": "code",
   "execution_count": null,
   "id": "6bd6fcb3-edd6-4503-81e4-bb567a068149",
   "metadata": {},
   "outputs": [],
   "source": []
  },
  {
   "cell_type": "code",
   "execution_count": null,
   "id": "ea9b0b18-b327-4909-9e3d-7a49ec41e86a",
   "metadata": {},
   "outputs": [],
   "source": []
  },
  {
   "cell_type": "code",
   "execution_count": 9,
   "id": "68ee137c-5993-4f62-a72b-cd2a7dc352e8",
   "metadata": {},
   "outputs": [],
   "source": [
    "optimizer = optim.Adam(network.parameters(), lr=0.01)"
   ]
  },
  {
   "cell_type": "code",
   "execution_count": 10,
   "id": "0a5d30e7-29b0-4b47-9e0d-e1392482ef3f",
   "metadata": {},
   "outputs": [
    {
     "name": "stdout",
     "output_type": "stream",
     "text": [
      "epoch 0 total_loss 56.776 total_correct 38592\n",
      "epoch 1 total_loss 29.556 total_correct 48542\n",
      "epoch 2 total_loss 24.761 total_correct 50835\n",
      "epoch 3 total_loss 21.771 total_correct 51876\n",
      "epoch 4 total_loss 20.267 total_correct 52436\n",
      "epoch 5 total_loss 18.809 total_correct 52981\n",
      "epoch 6 total_loss 18.217 total_correct 53100\n",
      "epoch 7 total_loss 17.135 total_correct 53533\n",
      "epoch 8 total_loss 16.656 total_correct 53780\n",
      "epoch 9 total_loss 16.217 total_correct 53911\n",
      "epoch 10 total_loss 15.567 total_correct 54075\n",
      "epoch 11 total_loss 15.510 total_correct 54096\n",
      "epoch 12 total_loss 15.032 total_correct 54205\n",
      "epoch 13 total_loss 14.691 total_correct 54394\n",
      "epoch 14 total_loss 13.815 total_correct 54788\n",
      "epoch 15 total_loss 13.656 total_correct 54794\n",
      "epoch 16 total_loss 13.469 total_correct 54890\n",
      "epoch 17 total_loss 12.785 total_correct 55077\n",
      "epoch 18 total_loss 13.110 total_correct 55050\n",
      "epoch 19 total_loss 12.892 total_correct 55033\n"
     ]
    }
   ],
   "source": [
    "for epoch in range(20):\n",
    "    total_loss = 0\n",
    "    total_correct = 0\n",
    "\n",
    "    for batch in train_loader:\n",
    "        images, labels = batch\n",
    "\n",
    "        preds = network(images)\n",
    "        loss = F.cross_entropy(preds, labels)\n",
    "        optimizer.zero_grad()\n",
    "        \n",
    "        \"\"\"\n",
    "        The \"optimizer.zero_grad()\" should come before calling \"loss.backward()\" to avoid accumulating gradients across iterations.\n",
    "        This causes the gradients to accumulate instead of resetting them before each backward pass.\n",
    "        Zeroing Gradients Before \"backward()\" ensures that gradients are reset properly before computing new ones.\n",
    "        \"\"\"\n",
    "        \n",
    "        loss.backward()\n",
    "        optimizer.step()\n",
    "\n",
    "        total_loss += loss.item()\n",
    "        total_correct += get_num_correct(preds, labels)\n",
    "        \n",
    "    print(f\"epoch {epoch} total_loss {total_loss:.3f} total_correct {total_correct}\")\n",
    "\n",
    "    "
   ]
  },
  {
   "cell_type": "markdown",
   "id": "989e1545-7d65-4cdf-84e7-5ee5aab6838d",
   "metadata": {},
   "source": [
    "# Starting out with TensorBoard (Network graph and images)"
   ]
  },
  {
   "cell_type": "code",
   "execution_count": 11,
   "id": "c1d8c459-1999-42a3-b404-73b7043b2c2d",
   "metadata": {},
   "outputs": [],
   "source": [
    "tb = SummaryWriter(\"runs/FashionMNIST\")\n",
    "\n",
    "train_loader = torch.utils.data.DataLoader(train_set, batch_size=100, shuffle=True)\n",
    "\n",
    "network = Network()\n",
    "images, labels = next(iter(train_loader))\n",
    "\n",
    "grid = torchvision.utils.make_grid(images)\n",
    "\n",
    "tb.add_image('images', grid)\n",
    "tb.add_graph(network, images)\n",
    "tb.close()"
   ]
  },
  {
   "cell_type": "markdown",
   "id": "70a712cf-1218-4c31-94c1-d136252032f2",
   "metadata": {},
   "source": [
    "## Training loop with tensorboard"
   ]
  },
  {
   "cell_type": "code",
   "execution_count": 17,
   "id": "44f27733-bd27-4630-918f-219c743b467f",
   "metadata": {},
   "outputs": [
    {
     "name": "stdout",
     "output_type": "stream",
     "text": [
      "epoch 0 total_loss 339.326 total_correct 47089\n",
      "epoch 1 total_loss 229.458 total_correct 51503\n",
      "epoch 2 total_loss 212.701 total_correct 52154\n",
      "epoch 3 total_loss 203.097 total_correct 52431\n",
      "epoch 4 total_loss 196.390 total_correct 52663\n",
      "epoch 5 total_loss 187.156 total_correct 53071\n",
      "epoch 6 total_loss 185.296 total_correct 53097\n",
      "epoch 7 total_loss 182.877 total_correct 53260\n",
      "epoch 8 total_loss 179.265 total_correct 53445\n",
      "epoch 9 total_loss 179.320 total_correct 53434\n"
     ]
    }
   ],
   "source": [
    "network = Network()\n",
    "train_loader = torch.utils.data.DataLoader(train_set, batch_size=100, shuffle=True)\n",
    "optimizer = optim.Adam(network.parameters(), lr=0.01)\n",
    "\n",
    "images, labels = next(iter(train_loader))\n",
    "grid = torchvision.utils.make_grid(images)\n",
    "\n",
    "tb = SummaryWriter(\"runs/FashionMNIST/trained model\")\n",
    "tb.add_image(\"FashionMNIST Images\", grid)\n",
    "tb.add_graph(network, images)\n",
    "\n",
    "for epoch in range(10):\n",
    "    total_loss = 0\n",
    "    total_correct = 0\n",
    "\n",
    "    for batch in train_loader:\n",
    "        images, labels = batch\n",
    "        preds = network(images)\n",
    "        loss = F.cross_entropy(preds, labels)\n",
    "\n",
    "        optimizer.zero_grad()\n",
    "        loss.backward()\n",
    "        optimizer.step()\n",
    "\n",
    "        total_loss += loss.item()\n",
    "        total_correct += get_num_correct(preds, labels)\n",
    "\n",
    "    tb.add_scalar(\"Loss\", total_loss, epoch)\n",
    "    tb.add_scalar(\"Number Correct\", total_correct, epoch)\n",
    "    tb.add_scalar(\"Accuracy\", total_correct/len(train_set), epoch)\n",
    "\n",
    "    tb.add_histogram(\"conv1.bias\", network.conv1.bias, epoch)\n",
    "    tb.add_histogram(\"conv1.weight\", network.conv1.weight, epoch)\n",
    "    tb.add_histogram(\"conv1.weight.grad\", network.conv1.weight.grad, epoch)\n",
    "\n",
    "    print(f\"epoch {epoch} total_loss {total_loss:.3f} total_correct {total_correct}\" )"
   ]
  },
  {
   "cell_type": "code",
   "execution_count": null,
   "id": "f32bcf26-653e-45cd-b17c-a4585aeaab34",
   "metadata": {},
   "outputs": [],
   "source": []
  },
  {
   "cell_type": "code",
   "execution_count": null,
   "id": "f93f383c-218c-4c61-9729-c77db7b072d0",
   "metadata": {},
   "outputs": [],
   "source": []
  }
 ],
 "metadata": {
  "kernelspec": {
   "display_name": "Python 3 (ipykernel)",
   "language": "python",
   "name": "python3"
  },
  "language_info": {
   "codemirror_mode": {
    "name": "ipython",
    "version": 3
   },
   "file_extension": ".py",
   "mimetype": "text/x-python",
   "name": "python",
   "nbconvert_exporter": "python",
   "pygments_lexer": "ipython3",
   "version": "3.12.4"
  }
 },
 "nbformat": 4,
 "nbformat_minor": 5
}
