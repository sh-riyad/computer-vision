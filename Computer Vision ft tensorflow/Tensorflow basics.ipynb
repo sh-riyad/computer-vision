{
 "cells": [
  {
   "cell_type": "code",
   "execution_count": 2,
   "id": "33ff026a-6de6-42e6-9d99-3afbc72d1eae",
   "metadata": {},
   "outputs": [],
   "source": [
    "import tensorflow as tf"
   ]
  },
  {
   "cell_type": "markdown",
   "id": "1a378c62-ce86-44f2-928b-d5412ef26925",
   "metadata": {},
   "source": [
    "### Tensor Basics\n",
    "tf.constant(value, dtype, shape, name)"
   ]
  },
  {
   "cell_type": "code",
   "execution_count": 3,
   "id": "0a74c693-6b60-4f79-85f8-ead7511744e5",
   "metadata": {},
   "outputs": [
    {
     "name": "stdout",
     "output_type": "stream",
     "text": [
      "tf.Tensor(4, shape=(), dtype=int32)\n"
     ]
    }
   ],
   "source": [
    "# Rank-0 or Scalar tensor\n",
    "rank_0_tensor = tf.constant(4)\n",
    "print(rank_0_tensor)"
   ]
  },
  {
   "cell_type": "code",
   "execution_count": 4,
   "id": "522c8fb1-cb9b-484a-ace4-bd69b756719c",
   "metadata": {},
   "outputs": [
    {
     "name": "stdout",
     "output_type": "stream",
     "text": [
      "tf.Tensor([2 3 4], shape=(3,), dtype=int32)\n"
     ]
    }
   ],
   "source": [
    "# Rank-1 or Vector tensor\n",
    "rank_1_tensor = tf.constant([2,3,4])\n",
    "print(rank_1_tensor)"
   ]
  },
  {
   "cell_type": "code",
   "execution_count": 10,
   "id": "9793abf5-be39-4afd-8d40-de02aee16e7f",
   "metadata": {},
   "outputs": [
    {
     "data": {
      "text/plain": [
       "TensorShape([3])"
      ]
     },
     "execution_count": 10,
     "metadata": {},
     "output_type": "execute_result"
    }
   ],
   "source": [
    "rank_1_tensor.shape"
   ]
  },
  {
   "cell_type": "code",
   "execution_count": 6,
   "id": "3d0a6120-fcd1-401f-b247-08a721877384",
   "metadata": {},
   "outputs": [
    {
     "name": "stdout",
     "output_type": "stream",
     "text": [
      "tf.Tensor(\n",
      "[[2 3 4]\n",
      " [4 5 6]], shape=(2, 3), dtype=int32)\n"
     ]
    }
   ],
   "source": [
    "# Rank-2 or Matrix tensor\n",
    "rank_2_tensor = tf.constant([[2,3,4], [4,5,6]])\n",
    "print(rank_2_tensor)"
   ]
  },
  {
   "cell_type": "code",
   "execution_count": 7,
   "id": "3eba6e30-acca-43bf-8177-49aa4e67b75e",
   "metadata": {},
   "outputs": [
    {
     "name": "stdout",
     "output_type": "stream",
     "text": [
      "tf.Tensor(\n",
      "[[[2 3 4]\n",
      "  [4 5 6]]\n",
      "\n",
      " [[6 7 8]\n",
      "  [5 6 7]]], shape=(2, 2, 3), dtype=int32)\n"
     ]
    }
   ],
   "source": [
    "# Rank-3 Tensor\n",
    "rank_3_tensor = tf.constant([[[2,3,4], [4,5,6]], [[6,7,8],[5,6,7]]])\n",
    "print(rank_3_tensor)"
   ]
  },
  {
   "cell_type": "markdown",
   "id": "1fb9a6d6-4c76-4036-bf95-f573ffc7926c",
   "metadata": {},
   "source": [
    "### Conversion\n",
    "You can convert a tensor to a NumPy array either using np.array or the tensor.numpy method:"
   ]
  },
  {
   "cell_type": "code",
   "execution_count": 11,
   "id": "0158289b-7349-4e47-a599-d9d8b5de97d4",
   "metadata": {},
   "outputs": [],
   "source": [
    "tensor = tf.constant([[2,3,4,5],[3,4,5,6]])"
   ]
  },
  {
   "cell_type": "code",
   "execution_count": 16,
   "id": "6e1f1fec-c65c-4955-b34c-a18a83950641",
   "metadata": {},
   "outputs": [
    {
     "data": {
      "text/plain": [
       "array([[2, 3, 4, 5],\n",
       "       [3, 4, 5, 6]])"
      ]
     },
     "execution_count": 16,
     "metadata": {},
     "output_type": "execute_result"
    }
   ],
   "source": [
    "# Tensor to numpy array\n",
    "import numpy as np\n",
    "numpy = np.array(tensor)\n",
    "numpy"
   ]
  },
  {
   "cell_type": "code",
   "execution_count": 17,
   "id": "192eec22-6155-4e95-a964-75c34337c620",
   "metadata": {},
   "outputs": [
    {
     "data": {
      "text/plain": [
       "array([[2, 3, 4, 5],\n",
       "       [3, 4, 5, 6]])"
      ]
     },
     "execution_count": 17,
     "metadata": {},
     "output_type": "execute_result"
    }
   ],
   "source": [
    "numpy = tensor.numpy()\n",
    "numpy"
   ]
  },
  {
   "cell_type": "code",
   "execution_count": 20,
   "id": "3755cff0-f033-4476-a099-d52737534518",
   "metadata": {},
   "outputs": [
    {
     "data": {
      "text/plain": [
       "<tf.Tensor: shape=(2, 3), dtype=int32, numpy=\n",
       "array([[2, 3, 4],\n",
       "       [2, 3, 4]])>"
      ]
     },
     "execution_count": 20,
     "metadata": {},
     "output_type": "execute_result"
    }
   ],
   "source": [
    "# Numpy to Tensor\n",
    "np_array = np.array([[2,3,4],[2,3,4]])\n",
    "tf_tensor = tf.convert_to_tensor(np_array)\n",
    "tf_tensor"
   ]
  },
  {
   "cell_type": "markdown",
   "id": "0b1a542e-79fa-47bb-8e59-df2808d449b6",
   "metadata": {},
   "source": [
    "### Tensor operations"
   ]
  },
  {
   "cell_type": "code",
   "execution_count": 30,
   "id": "40774127-c97a-4b66-88fa-e93ef51a49ac",
   "metadata": {},
   "outputs": [],
   "source": [
    "a = tf.constant([[1,2],\n",
    "                 [2,3]])\n",
    "b = tf.constant([[3,4],\n",
    "                 [5,6]])"
   ]
  },
  {
   "cell_type": "code",
   "execution_count": 32,
   "id": "841e40d9-eabf-4bf8-8e2b-67d7a4089866",
   "metadata": {},
   "outputs": [
    {
     "name": "stdout",
     "output_type": "stream",
     "text": [
      "tf.Tensor(\n",
      "[[4 6]\n",
      " [7 9]], shape=(2, 2), dtype=int32) \n",
      "\n",
      "tf.Tensor(\n",
      "[[ 3  8]\n",
      " [10 18]], shape=(2, 2), dtype=int32) \n",
      "\n",
      "tf.Tensor(\n",
      "[[13 16]\n",
      " [21 26]], shape=(2, 2), dtype=int32) \n",
      "\n"
     ]
    }
   ],
   "source": [
    "print(tf.add(a,b),\"\\n\")\n",
    "print(tf.multiply(a,b),\"\\n\")\n",
    "print(tf.matmul(a,b),\"\\n\")"
   ]
  },
  {
   "cell_type": "code",
   "execution_count": 34,
   "id": "f26dd8f1-a66b-4b51-b074-76d53e7f5bad",
   "metadata": {},
   "outputs": [
    {
     "name": "stdout",
     "output_type": "stream",
     "text": [
      "tf.Tensor(\n",
      "[[4 6]\n",
      " [7 9]], shape=(2, 2), dtype=int32) \n",
      "\n",
      "tf.Tensor(\n",
      "[[ 3  8]\n",
      " [10 18]], shape=(2, 2), dtype=int32) \n",
      "\n",
      "tf.Tensor(\n",
      "[[13 16]\n",
      " [21 26]], shape=(2, 2), dtype=int32) \n",
      "\n"
     ]
    }
   ],
   "source": [
    "print(a + b, \"\\n\") # Element-wise addition\n",
    "print(a * b, \"\\n\") # Element-wise multiplication\n",
    "print(a @ b, \"\\n\") # Matrix multiplication"
   ]
  },
  {
   "cell_type": "code",
   "execution_count": 46,
   "id": "ca331986-26fa-4b51-b9cc-a83d9e35051f",
   "metadata": {},
   "outputs": [
    {
     "name": "stdout",
     "output_type": "stream",
     "text": [
      "tf.Tensor(11.0, shape=(), dtype=float32)\n",
      "tf.Tensor([1 0 1], shape=(3,), dtype=int64)\n",
      "tf.Tensor(\n",
      "[[1.5876239e-02 8.6681336e-01 1.1731043e-01]\n",
      " [9.9662089e-01 9.0880063e-04 2.4703762e-03]], shape=(2, 3), dtype=float32)\n"
     ]
    }
   ],
   "source": [
    "# Basics usecase\n",
    "x = tf.constant([[2, 6, 4], \n",
    "                 [11, 4, 5]], dtype=float)\n",
    "\n",
    "print(tf.reduce_max(x)) # Find the largest value\n",
    "print(tf.math.argmax(x)) # find the index of max value\n",
    "print(tf.nn.softmax(x)) # Compute softmax"
   ]
  },
  {
   "cell_type": "markdown",
   "id": "9e1bfb75-b83e-4dd4-a4e6-352f841b5c40",
   "metadata": {},
   "source": [
    "### Tensor Shapes\n",
    "* Shape: The length (number of elements) of each of the axes of a tensor.\n",
    "* Rank: Number of tensor axes. A scalar has rank 0, a vector has rank 1, a matrix is rank 2.\n",
    "* Axis or Dimension: A particular dimension of a tensor.\n",
    "* Size: The total number of items in the tensor, the product of the shape vector's elements."
   ]
  },
  {
   "cell_type": "code",
   "execution_count": 4,
   "id": "4fdcbb96-6235-4cce-88b7-789fba0e2d68",
   "metadata": {},
   "outputs": [],
   "source": [
    "rank_4_tensor = tf.zeros([3, 2, 4, 5])\n",
    "# print(rank_4_tensor)"
   ]
  },
  {
   "cell_type": "code",
   "execution_count": 7,
   "id": "d02cbec1-4ecb-4365-9390-aa494d74c9a5",
   "metadata": {},
   "outputs": [
    {
     "data": {
      "text/plain": [
       "tf.float32"
      ]
     },
     "execution_count": 7,
     "metadata": {},
     "output_type": "execute_result"
    }
   ],
   "source": [
    "rank_4_tensor.dtype"
   ]
  },
  {
   "cell_type": "code",
   "execution_count": 9,
   "id": "f3e67f66-cbef-404f-b476-3aa743214673",
   "metadata": {},
   "outputs": [
    {
     "data": {
      "text/plain": [
       "4"
      ]
     },
     "execution_count": 9,
     "metadata": {},
     "output_type": "execute_result"
    }
   ],
   "source": [
    "rank_4_tensor.ndim"
   ]
  },
  {
   "cell_type": "code",
   "execution_count": 10,
   "id": "20d96fbd-d9df-48ec-85df-e702157aabef",
   "metadata": {},
   "outputs": [
    {
     "data": {
      "text/plain": [
       "TensorShape([3, 2, 4, 5])"
      ]
     },
     "execution_count": 10,
     "metadata": {},
     "output_type": "execute_result"
    }
   ],
   "source": [
    "rank_4_tensor.shape"
   ]
  },
  {
   "cell_type": "code",
   "execution_count": 11,
   "id": "b3ba0024-10b3-4375-a082-93ffc767738a",
   "metadata": {},
   "outputs": [
    {
     "data": {
      "text/plain": [
       "<tf.Tensor: shape=(), dtype=int32, numpy=4>"
      ]
     },
     "execution_count": 11,
     "metadata": {},
     "output_type": "execute_result"
    }
   ],
   "source": [
    "tf.rank(rank_4_tensor)"
   ]
  },
  {
   "cell_type": "code",
   "execution_count": 12,
   "id": "aca778cf-18bb-4755-8c70-165e6160e3a5",
   "metadata": {},
   "outputs": [
    {
     "data": {
      "text/plain": [
       "<tf.Tensor: shape=(), dtype=int32, numpy=120>"
      ]
     },
     "execution_count": 12,
     "metadata": {},
     "output_type": "execute_result"
    }
   ],
   "source": [
    "tf.size(rank_4_tensor)"
   ]
  },
  {
   "cell_type": "markdown",
   "id": "13d2643d-cee9-46b2-b8e9-eec814e6ac0d",
   "metadata": {},
   "source": [
    "### Index"
   ]
  },
  {
   "cell_type": "code",
   "execution_count": 23,
   "id": "207cd89f-ebe2-43eb-8df2-4541aa345121",
   "metadata": {},
   "outputs": [],
   "source": [
    "x = tf.constant([2,3,4,5])\n",
    "y = tf.constant([[2,3,4],[6,7,8]])"
   ]
  },
  {
   "cell_type": "code",
   "execution_count": 21,
   "id": "5d73e743-f0ad-40e0-9c91-7fafc3d06d53",
   "metadata": {},
   "outputs": [
    {
     "data": {
      "text/plain": [
       "<tf.Tensor: shape=(2,), dtype=int32, numpy=array([2, 3])>"
      ]
     },
     "execution_count": 21,
     "metadata": {},
     "output_type": "execute_result"
    }
   ],
   "source": [
    "x[:2]"
   ]
  },
  {
   "cell_type": "code",
   "execution_count": 22,
   "id": "c3d23516-c428-4c00-a5c2-71a81eeb0e54",
   "metadata": {},
   "outputs": [
    {
     "data": {
      "text/plain": [
       "<tf.Tensor: shape=(2,), dtype=int32, numpy=array([3, 4])>"
      ]
     },
     "execution_count": 22,
     "metadata": {},
     "output_type": "execute_result"
    }
   ],
   "source": [
    "x[1:3]"
   ]
  },
  {
   "cell_type": "code",
   "execution_count": 27,
   "id": "170593f6-adba-4272-a789-11b52ed6cf92",
   "metadata": {},
   "outputs": [
    {
     "data": {
      "text/plain": [
       "<tf.Tensor: shape=(1,), dtype=int32, numpy=array([3])>"
      ]
     },
     "execution_count": 27,
     "metadata": {},
     "output_type": "execute_result"
    }
   ],
   "source": [
    "y[:1,1]"
   ]
  },
  {
   "cell_type": "code",
   "execution_count": null,
   "id": "bce503d2-7285-4bb1-b2fa-f3263f895c31",
   "metadata": {},
   "outputs": [],
   "source": []
  }
 ],
 "metadata": {
  "kernelspec": {
   "display_name": "Python 3 (ipykernel)",
   "language": "python",
   "name": "python3"
  },
  "language_info": {
   "codemirror_mode": {
    "name": "ipython",
    "version": 3
   },
   "file_extension": ".py",
   "mimetype": "text/x-python",
   "name": "python",
   "nbconvert_exporter": "python",
   "pygments_lexer": "ipython3",
   "version": "3.12.4"
  }
 },
 "nbformat": 4,
 "nbformat_minor": 5
}
